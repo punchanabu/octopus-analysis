{
 "cells": [
  {
   "cell_type": "code",
   "execution_count": null,
   "metadata": {},
   "outputs": [
    {
     "name": "stdout",
     "output_type": "stream",
     "text": [
      "INFO: Processing year directory: 2018\n"
     ]
    },
    {
     "data": {
      "text/plain": [
       "90042"
      ]
     },
     "execution_count": 6,
     "metadata": {},
     "output_type": "execute_result"
    }
   ],
   "source": [
    "import json\n",
    "import sys\n",
    "\n",
    "sys.path.append(\"..\")\n",
    "from dotenv import load_dotenv\n",
    "from src.ingestion.scopus_loader import StreamingScopusLoader\n",
    "\n",
    "load_dotenv()\n",
    "loader = StreamingScopusLoader(chunk_size=2000)\n",
    "\n",
    "\n",
    "def calculate_chunk_size():\n",
    "    sample_size = 100\n",
    "    sample_records = []\n",
    "\n",
    "    for file_path in loader.stream_files():\n",
    "        for record in loader.stream_records(file_path):\n",
    "            sample_records.append(record)\n",
    "            if len(sample_records) >= sample_size:\n",
    "                break\n",
    "        if len(sample_records) >= sample_size:\n",
    "            break\n",
    "\n",
    "    # Calculate average size\n",
    "    total_size = sys.getsizeof(json.dumps(sample_records))\n",
    "    size_per_record = total_size / len(sample_records)\n",
    "\n",
    "    # Calculate safe chunk size (75% of RAM)\n",
    "    available_ram = 24 * 1024 * 1024 * 1024 * 0.75  # 75% of 24GB in bytes\n",
    "    return int(available_ram / size_per_record)\n",
    "\n",
    "\n",
    "calculate_chunk_size()"
   ]
  }
 ],
 "metadata": {
  "kernelspec": {
   "display_name": "ds",
   "language": "python",
   "name": "python3"
  },
  "language_info": {
   "codemirror_mode": {
    "name": "ipython",
    "version": 3
   },
   "file_extension": ".py",
   "mimetype": "text/x-python",
   "name": "python",
   "nbconvert_exporter": "python",
   "pygments_lexer": "ipython3",
   "version": "3.12.7"
  }
 },
 "nbformat": 4,
 "nbformat_minor": 2
}
